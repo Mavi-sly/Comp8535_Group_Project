{
 "cells": [
  {
   "cell_type": "markdown",
   "id": "b6db043d",
   "metadata": {},
   "source": [
    "# Multidimensional Scaling (MDS)"
   ]
  },
  {
   "cell_type": "markdown",
   "id": "dc0b7451",
   "metadata": {},
   "source": [
    "In this lab, you are given a distance matrix $D$ of (squared) relative distances between Australian cities. You are to implement MDS to compute absolute positions of the cities."
   ]
  },
  {
   "cell_type": "code",
   "execution_count": 1,
   "id": "89067874",
   "metadata": {},
   "outputs": [],
   "source": [
    "import numpy as np\n",
    "import matplotlib.pyplot as plt"
   ]
  },
  {
   "cell_type": "markdown",
   "id": "161061e7",
   "metadata": {},
   "source": [
    "## Load Input Data (Squared) Relative Distance Matrix\n",
    "Run the following cell to load the distance matrix."
   ]
  },
  {
   "cell_type": "code",
   "execution_count": 2,
   "id": "7e889e9b",
   "metadata": {},
   "outputs": [],
   "source": [
    "# Relative City Distances\n",
    "distance_mats = np.array([\n",
    "              #   inter-city distances by air in km's, data scraped from https://www.distancefromto.net/\n",
    "              #   Perth    Canberra    Sydney    Melbourne    Adelaide    Brisbane    Darwin\n",
    "              [     0,       3095,      3297,      2727,        2135,       3613,      2647 ], # Perth \n",
    "              [    3095,       0,        247,       467,        960,         942,      3127 ], # Canberra\n",
    "              [    3297,      247,        0.,       714,        1165,        731,      3144 ], # Sydney\n",
    "              [    2727,      467,       714,        0.,        655,        1373,      3140 ], # Melbourne\n",
    "              [    2135,      960,      1165,       655,         0.,        1602,      2609 ], # Adelaide\n",
    "              [    3613,      942,       731,      1373,        1602,         0.,      2846 ], # Brisbane\n",
    "              [    2647,     3127,      3144,      3140,        2609,       2846,        0. ], # Darwin\n",
    "              ], dtype=np.double)\n",
    "D = distance_mats**2 # matrix of squared relative distances (input to MDS)\n",
    "n = np.shape(D)[0]   # number of cities/data points"
   ]
  },
  {
   "cell_type": "markdown",
   "id": "95bcfa1a",
   "metadata": {},
   "source": [
    "## Implement MDS\n",
    "Implement the three steps of MDS in the following three cells to produce the matrix of output points $Y \\in R^{n \\times 2}$."
   ]
  },
  {
   "cell_type": "markdown",
   "id": "2080e831",
   "metadata": {},
   "source": [
    "1. Compute the row sums $s_i$ for $i = 1, 2, \\ldots, n$ and matrix sums $s$ of the matrix $D$."
   ]
  },
  {
   "cell_type": "code",
   "execution_count": 3,
   "id": "db29b8b3",
   "metadata": {},
   "outputs": [],
   "source": [
    "row_sums = np.sum(D, 1)\n",
    "matrix_sum = np.sum(D)"
   ]
  },
  {
   "cell_type": "markdown",
   "id": "14ae490a",
   "metadata": {},
   "source": [
    "2. Compute $B=XX^T \\in R^{n \\times n}$ elementwise using the matrix $D$ and its row and matrix sums."
   ]
  },
  {
   "cell_type": "code",
   "execution_count": 4,
   "id": "845cba6e",
   "metadata": {},
   "outputs": [],
   "source": [
    "B = np.zeros((n,n))\n",
    "for i in range(n):\n",
    "    for j in range(n):\n",
    "        B[i,j] = -0.5*(D[i,j] - 1/n*row_sums[i] - 1/n*row_sums[j] + 1/n/n*matrix_sum)"
   ]
  },
  {
   "cell_type": "markdown",
   "id": "894331f1",
   "metadata": {},
   "source": [
    "3. Compute eigendecomposition of $B = UVU^T$ and select $k = 2$ eigenvectors to compute the output points $Y = \\hat{U}\\hat{\\Lambda}^{0.5}$."
   ]
  },
  {
   "cell_type": "code",
   "execution_count": 5,
   "id": "1f17911f",
   "metadata": {},
   "outputs": [
    {
     "name": "stdout",
     "output_type": "stream",
     "text": [
      "[[ 5.33914237e+06 -1.67972821e+06 -2.19571146e+06 -6.94134084e+05\n",
      "   4.86746767e+05 -3.00178038e+06  1.74546501e+06]\n",
      " [-1.67972821e+06  8.95637987e+05  9.90389696e+05  7.09027923e+05\n",
      "   9.13056694e+04  8.43880327e+05 -1.85051339e+06]\n",
      " [-2.19571146e+06  9.90389696e+05  1.14744485e+06  6.85806820e+05\n",
      "  -7.23069356e+02  1.15247388e+06 -1.77968072e+06]\n",
      " [-6.94134084e+05  7.09027923e+05  6.85806820e+05  7.45870625e+05\n",
      "   2.63349617e+05  2.55965886e+05 -1.96588679e+06]\n",
      " [ 4.86746767e+05  9.13056694e+04 -7.23069356e+02  2.63349617e+05\n",
      "   2.07100788e+05 -3.40562802e+05 -7.07216970e+05]\n",
      " [-3.00178038e+06  8.43880327e+05  1.15247388e+06  2.55965886e+05\n",
      "  -3.40562802e+05  1.71517200e+06 -6.25148911e+05]\n",
      " [ 1.74546501e+06 -1.85051339e+06 -1.77968072e+06 -1.96588679e+06\n",
      "  -7.07216970e+05 -6.25148911e+05  5.18298177e+06]]\n",
      "[[1.05356720e+07 3.03506571e-09]\n",
      " [3.03506571e-09 4.69767834e+06]]\n"
     ]
    }
   ],
   "source": [
    "w, v = np.linalg.eigh(B)\n",
    "U_hat = v[:,[-1,-2]]\n",
    "Lambda_hat = np.diag(w[[-1,-2]])\n",
    "Y = U_hat@np.sqrt(Lambda_hat)\n",
    "\n",
    "print(Y@Y.T)\n",
    "print(Y.T@Y)"
   ]
  },
  {
   "cell_type": "markdown",
   "id": "02981ce5",
   "metadata": {},
   "source": [
    "# Test Implementation\n",
    "The following code should run without error if you MDS implementation is correct."
   ]
  },
  {
   "cell_type": "code",
   "execution_count": 6,
   "id": "30b3e1de",
   "metadata": {},
   "outputs": [],
   "source": [
    "true_values = np.array([[1120.23845832, -2020.94239444],\n",
    " [177.54711523, 929.57786595],\n",
    " [-28.25692107, 1070.81576184],\n",
    " [562.54437928, 655.29721985],\n",
    " [454.94221884, 11.32986406],\n",
    " [-774.87859599, 1055.81019378],\n",
    " [-1512.1366546, -1701.88851104]])[:,[1,0]]\n",
    "assert(np.allclose(Y, true_values))"
   ]
  },
  {
   "cell_type": "code",
   "execution_count": null,
   "id": "f226ae19",
   "metadata": {},
   "outputs": [],
   "source": []
  },
  {
   "cell_type": "code",
   "execution_count": null,
   "id": "51ef02d3",
   "metadata": {},
   "outputs": [],
   "source": []
  }
 ],
 "metadata": {
  "kernelspec": {
   "display_name": "Python 3",
   "language": "python",
   "name": "python3"
  },
  "language_info": {
   "codemirror_mode": {
    "name": "ipython",
    "version": 3
   },
   "file_extension": ".py",
   "mimetype": "text/x-python",
   "name": "python",
   "nbconvert_exporter": "python",
   "pygments_lexer": "ipython3",
   "version": "3.11.5"
  }
 },
 "nbformat": 4,
 "nbformat_minor": 5
}
